{
 "cells": [
  {
   "cell_type": "code",
   "execution_count": 1,
   "id": "9ee6402e",
   "metadata": {},
   "outputs": [],
   "source": [
    "import numpy as np\n",
    "import pandas as pd\n",
    "from sklearn.svm import SVC\n",
    "from sklearn.metrics import accuracy_score\n",
    "import ssa as ssa\n",
    "\n",
    "import pandas as pd\n",
    "import numpy as np\n",
    "from sklearn.feature_extraction.text import TfidfVectorizer\n",
    "from sklearn.svm import SVC\n",
    "from sklearn.metrics import accuracy_score, classification_report, confusion_matrix\n",
    "from sklearn.model_selection import GridSearchCV\n",
    "from imblearn.over_sampling import SMOTE, RandomOverSampler\n",
    "from sklearn.decomposition import PCA\n",
    "from sklearn.decomposition import TruncatedSVD\n",
    "\n",
    "import pickle\n",
    "from tqdm import tqdm\n",
    "from scipy.sparse import load_npz\n",
    "\n",
    "import warnings\n",
    "warnings.filterwarnings('ignore')"
   ]
  },
  {
   "cell_type": "code",
   "execution_count": 2,
   "id": "e781412a",
   "metadata": {},
   "outputs": [],
   "source": [
    "X_train = load_npz('./TextBlob/X_train.npz')\n",
    "X_test  = load_npz('./TextBlob/X_test.npz')\n",
    "y_train = pd.read_csv('./TextBlob/y_train.csv')\n",
    "y_test = pd.read_csv('./TextBlob/y_test.csv')\n",
    "\n",
    "X_train_ros= load_npz('./TextBlob/X_train_ros.npz')\n",
    "X_test_ros = load_npz('./TextBlob/X_test_ros.npz')\n",
    "y_train_ros = pd.read_csv('./TextBlob/y_train_ros.csv')\n",
    "y_test_ros = pd.read_csv('./TextBlob/y_test_ros.csv')\n",
    "\n",
    "X_train_smote = load_npz('./TextBlob/X_train_smote.npz')\n",
    "X_test_smote = load_npz('./TextBlob/X_test_smote.npz')\n",
    "y_train_smote = pd.read_csv('./TextBlob/y_train_smote.csv')\n",
    "y_test_smote = pd.read_csv('./TextBlob/y_test_smote.csv')\n",
    "\n",
    "X_train_ros_after = load_npz('./TextBlob/X_train_ros_after.npz')\n",
    "X_test_ros_after = load_npz('./TextBlob/X_test_ros_after.npz')\n",
    "y_train_ros_after = pd.read_csv('./TextBlob/y_train_ros_after.csv')\n",
    "y_test_ros_after = pd.read_csv('./TextBlob/y_test_ros_after.csv')\n",
    "\n",
    "X_train_smote_after = load_npz('./TextBlob/X_train_smote_after.npz')\n",
    "X_test_smote_after = load_npz('./TextBlob/X_test_smote_after.npz')\n",
    "y_train_smote_after = pd.read_csv('./TextBlob/y_train_smote_after.csv')\n",
    "y_test_smote_after = pd.read_csv('./TextBlob/y_test_smote_after.csv')"
   ]
  },
  {
   "cell_type": "code",
   "execution_count": 3,
   "id": "9fbe8c62",
   "metadata": {
    "scrolled": true
   },
   "outputs": [],
   "source": [
    "y_train.drop(['Unnamed: 0'], inplace = True, axis = 1)\n",
    "y_test.drop(['Unnamed: 0'], inplace = True, axis = 1)\n",
    "\n",
    "y_train_ros.drop(['Unnamed: 0'], inplace = True, axis = 1)\n",
    "y_test_ros.drop(['Unnamed: 0'], inplace = True, axis = 1)\n",
    "\n",
    "y_train_smote.drop(['Unnamed: 0'], inplace = True, axis = 1)\n",
    "y_test_smote.drop(['Unnamed: 0'], inplace = True, axis = 1)\n",
    "\n",
    "y_train_ros_after.drop(['Unnamed: 0'], inplace = True, axis = 1)\n",
    "y_test_ros_after.drop(['Unnamed: 0'], inplace = True, axis = 1)\n",
    "\n",
    "y_train_smote_after.drop(['Unnamed: 0'], inplace = True, axis = 1)\n",
    "y_test_smote_after.drop(['Unnamed: 0'], inplace = True, axis = 1)"
   ]
  },
  {
   "cell_type": "code",
   "execution_count": 4,
   "id": "ce539b72",
   "metadata": {},
   "outputs": [],
   "source": [
    "def train_and_evaluate(X_train, X_test, y_train, y_test):\n",
    "\n",
    "    num_components = 4000\n",
    "    svd = TruncatedSVD(n_components=num_components)\n",
    "    X_train_pca = svd.fit_transform(X_train)\n",
    "    X_test_pca = svd.transform(X_test)\n",
    "\n",
    "    svm_model = SVC(C = 50, degree = 2, gamma = 0.0001, kernel = 'linear')\n",
    "    svm_model.fit(X_train_pca, y_train)\n",
    "\n",
    "    y_pred = svm_model.predict(X_test_pca)\n",
    "\n",
    "    report = classification_report(y_test, y_pred)\n",
    "    print(report)"
   ]
  },
  {
   "cell_type": "code",
   "execution_count": 5,
   "id": "dfc735f6",
   "metadata": {},
   "outputs": [
    {
     "name": "stdout",
     "output_type": "stream",
     "text": [
      "              precision    recall  f1-score   support\n",
      "\n",
      "    negative       0.83      0.89      0.86      4136\n",
      "     neutral       0.83      0.82      0.82      4016\n",
      "    positive       0.84      0.79      0.81      3961\n",
      "\n",
      "    accuracy                           0.83     12113\n",
      "   macro avg       0.83      0.83      0.83     12113\n",
      "weighted avg       0.83      0.83      0.83     12113\n",
      "\n",
      "CPU times: user 1h 39min 3s, sys: 1min 13s, total: 1h 40min 17s\n",
      "Wall time: 1h 21min 44s\n"
     ]
    }
   ],
   "source": [
    "%time train_and_evaluate(X_train, X_test, y_train, y_test)"
   ]
  },
  {
   "cell_type": "code",
   "execution_count": 6,
   "id": "98efea33",
   "metadata": {},
   "outputs": [
    {
     "name": "stdout",
     "output_type": "stream",
     "text": [
      "              precision    recall  f1-score   support\n",
      "\n",
      "    negative       0.83      0.90      0.86      4136\n",
      "     neutral       0.84      0.81      0.82      4016\n",
      "    positive       0.84      0.79      0.81      3961\n",
      "\n",
      "    accuracy                           0.83     12113\n",
      "   macro avg       0.83      0.83      0.83     12113\n",
      "weighted avg       0.83      0.83      0.83     12113\n",
      "\n",
      "CPU times: user 1h 42min 25s, sys: 1min 13s, total: 1h 43min 39s\n",
      "Wall time: 1h 22min 58s\n"
     ]
    }
   ],
   "source": [
    "%time train_and_evaluate(X_train_ros, X_test_ros, y_train_ros, y_test_ros)"
   ]
  },
  {
   "cell_type": "code",
   "execution_count": 7,
   "id": "4e609e27",
   "metadata": {},
   "outputs": [
    {
     "name": "stdout",
     "output_type": "stream",
     "text": [
      "              precision    recall  f1-score   support\n",
      "\n",
      "    negative       0.83      0.89      0.86      4016\n",
      "     neutral       0.84      0.83      0.83      4067\n",
      "    positive       0.85      0.80      0.82      4030\n",
      "\n",
      "    accuracy                           0.84     12113\n",
      "   macro avg       0.84      0.84      0.84     12113\n",
      "weighted avg       0.84      0.84      0.84     12113\n",
      "\n",
      "CPU times: user 1h 44min 33s, sys: 1min 24s, total: 1h 45min 57s\n",
      "Wall time: 1h 24min 25s\n"
     ]
    }
   ],
   "source": [
    "%time train_and_evaluate(X_train_smote, X_test_smote, y_train_smote, y_test_smote)"
   ]
  },
  {
   "cell_type": "code",
   "execution_count": 8,
   "id": "a0e9d5b1",
   "metadata": {},
   "outputs": [
    {
     "name": "stdout",
     "output_type": "stream",
     "text": [
      "              precision    recall  f1-score   support\n",
      "\n",
      "    negative       0.61      0.65      0.63      1657\n",
      "     neutral       0.81      0.83      0.82      3987\n",
      "    positive       0.82      0.77      0.79      3797\n",
      "\n",
      "    accuracy                           0.78      9441\n",
      "   macro avg       0.75      0.75      0.75      9441\n",
      "weighted avg       0.78      0.78      0.78      9441\n",
      "\n",
      "CPU times: user 1h 46min 15s, sys: 1min 32s, total: 1h 47min 48s\n",
      "Wall time: 1h 25min 14s\n"
     ]
    }
   ],
   "source": [
    "%time train_and_evaluate(X_train_ros_after, X_test_ros_after, y_train_ros_after, y_test_ros_after)"
   ]
  },
  {
   "cell_type": "code",
   "execution_count": 9,
   "id": "98b102e7",
   "metadata": {},
   "outputs": [
    {
     "name": "stdout",
     "output_type": "stream",
     "text": [
      "              precision    recall  f1-score   support\n",
      "\n",
      "    negative       0.59      0.65      0.62      1613\n",
      "     neutral       0.82      0.82      0.82      4023\n",
      "    positive       0.82      0.78      0.80      3805\n",
      "\n",
      "    accuracy                           0.77      9441\n",
      "   macro avg       0.74      0.75      0.74      9441\n",
      "weighted avg       0.78      0.77      0.77      9441\n",
      "\n",
      "CPU times: user 1h 31min 27s, sys: 1min 47s, total: 1h 33min 14s\n",
      "Wall time: 10h 5min 42s\n"
     ]
    }
   ],
   "source": [
    "%time train_and_evaluate(X_train_smote_after, X_test_smote_after, y_train_smote_after, y_test_smote_after)"
   ]
  },
  {
   "cell_type": "code",
   "execution_count": null,
   "id": "29a4bc15",
   "metadata": {},
   "outputs": [],
   "source": []
  }
 ],
 "metadata": {
  "kernelspec": {
   "display_name": "Python 3 (ipykernel)",
   "language": "python",
   "name": "python3"
  },
  "language_info": {
   "codemirror_mode": {
    "name": "ipython",
    "version": 3
   },
   "file_extension": ".py",
   "mimetype": "text/x-python",
   "name": "python",
   "nbconvert_exporter": "python",
   "pygments_lexer": "ipython3",
   "version": "3.10.10"
  }
 },
 "nbformat": 4,
 "nbformat_minor": 5
}
