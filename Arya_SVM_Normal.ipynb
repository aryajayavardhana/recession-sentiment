{
 "cells": [
  {
   "cell_type": "code",
   "execution_count": 1,
   "metadata": {},
   "outputs": [
    {
     "name": "stderr",
     "output_type": "stream",
     "text": [
      "WARNING:root:Failed to import geometry msgs in rigid_transformations.py.\n",
      "WARNING:root:Failed to import ros dependencies in rigid_transforms.py\n",
      "WARNING:root:autolab_core not installed as catkin package, RigidTransform ros methods will be unavailable\n"
     ]
    }
   ],
   "source": [
    "import pandas as pd\n",
    "import numpy as np\n",
    "from pyMetaheuristic.algorithm import salp_swarm_algorithm\n",
    "from sklearn.feature_extraction.text import TfidfVectorizer\n",
    "from sklearn.svm import SVC\n",
    "from sklearn.metrics import accuracy_score, classification_report, confusion_matrix\n",
    "from sklearn.model_selection import GridSearchCV\n",
    "from imblearn.over_sampling import SMOTE, RandomOverSampler\n",
    "\n",
    "import sys\n",
    "sys.path.append('../')\n",
    "from visualization import visualization_table\n",
    "import pickle\n",
    "from tqdm import tqdm\n",
    "from scipy.sparse import load_npz"
   ]
  },
  {
   "cell_type": "markdown",
   "metadata": {},
   "source": [
    "# **Load Data**"
   ]
  },
  {
   "cell_type": "code",
   "execution_count": 2,
   "metadata": {},
   "outputs": [],
   "source": [
    "X_train = load_npz('X_train.npz')\n",
    "X_test  = load_npz('X_test.npz')\n",
    "y_train = pd.read_csv('y_train.csv')\n",
    "y_test = pd.read_csv('y_test.csv')\n",
    "\n",
    "X_train_ros= load_npz('X_train_ros.npz')\n",
    "X_test_ros = load_npz('X_test_ros.npz')\n",
    "y_train_ros = pd.read_csv('y_train_ros.csv')\n",
    "y_test_ros = pd.read_csv('y_test_ros.csv')\n",
    "\n",
    "X_train_smote = load_npz('X_train_smote.npz')\n",
    "X_test_smote = load_npz('X_test_smote.npz')\n",
    "y_train_smote = pd.read_csv('y_train_smote.csv')\n",
    "y_test_smote = pd.read_csv('y_test_smote.csv')"
   ]
  },
  {
   "cell_type": "code",
   "execution_count": 3,
   "metadata": {},
   "outputs": [],
   "source": [
    "y_train.drop(['Unnamed: 0'], inplace = True, axis = 1)\n",
    "y_test.drop(['Unnamed: 0'], inplace = True, axis = 1)\n",
    "\n",
    "y_train_ros.drop(['Unnamed: 0'], inplace = True, axis = 1)\n",
    "y_test_ros.drop(['Unnamed: 0'], inplace = True, axis = 1)\n",
    "\n",
    "y_train_smote.drop(['Unnamed: 0'], inplace = True, axis = 1)\n",
    "y_test_smote.drop(['Unnamed: 0'], inplace = True, axis = 1)"
   ]
  },
  {
   "cell_type": "code",
   "execution_count": 4,
   "metadata": {},
   "outputs": [
    {
     "data": {
      "text/plain": [
       "<28321x28177 sparse matrix of type '<class 'numpy.float64'>'\n",
       "\twith 311311 stored elements in Compressed Sparse Row format>"
      ]
     },
     "execution_count": 4,
     "metadata": {},
     "output_type": "execute_result"
    }
   ],
   "source": [
    "X_train"
   ]
  },
  {
   "cell_type": "code",
   "execution_count": 5,
   "metadata": {},
   "outputs": [
    {
     "data": {
      "text/plain": [
       "<9441x28177 sparse matrix of type '<class 'numpy.float64'>'\n",
       "\twith 103055 stored elements in Compressed Sparse Row format>"
      ]
     },
     "execution_count": 5,
     "metadata": {},
     "output_type": "execute_result"
    }
   ],
   "source": [
    "X_test"
   ]
  },
  {
   "cell_type": "markdown",
   "metadata": {},
   "source": [
    "# **Datasets  Prepation**"
   ]
  },
  {
   "cell_type": "markdown",
   "metadata": {},
   "source": [
    "# **Modelling** + **Visualization**"
   ]
  },
  {
   "cell_type": "markdown",
   "metadata": {},
   "source": [
    "## No Oversampling"
   ]
  },
  {
   "cell_type": "code",
   "execution_count": 6,
   "metadata": {},
   "outputs": [
    {
     "name": "stdout",
     "output_type": "stream",
     "text": [
      "CPU times: user 1h 1min 49s, sys: 25.4 s, total: 1h 2min 15s\n",
      "Wall time: 1h 2min 17s\n",
      "\n",
      "Best SVM Parameter for Normal Dataset:  {'C': 1, 'degree': 2, 'gamma': 0.0001, 'kernel': 'linear'}\n"
     ]
    }
   ],
   "source": [
    "param_grid = {\n",
    "    'kernel' : ['linear', 'poly', 'rbf'],\n",
    "    'C': [1, 5, 10, 50],\n",
    "    'gamma': [0.0001, 0.001, 0.005],\n",
    "    'degree': [2, 3, 4]\n",
    "}   \n",
    "\n",
    "\n",
    "y_train = y_train['label']\n",
    "y_test = y_test['label']\n",
    "\n",
    "model = SVC()\n",
    "grid_search = GridSearchCV(model, param_grid, cv=2)\n",
    "\n",
    "%time grid_search.fit(X_train, y_train)\n",
    "print('\\nBest SVM Parameter for Normal Dataset: ', grid_search.best_params_)"
   ]
  },
  {
   "cell_type": "code",
   "execution_count": 7,
   "metadata": {},
   "outputs": [
    {
     "name": "stdout",
     "output_type": "stream",
     "text": [
      "              precision    recall  f1-score   support\n",
      "\n",
      "           0       0.85      0.96      0.90      6704\n",
      "           1       0.80      0.66      0.72      2183\n",
      "           2       0.66      0.14      0.22       554\n",
      "\n",
      "    accuracy                           0.84      9441\n",
      "   macro avg       0.77      0.59      0.62      9441\n",
      "weighted avg       0.83      0.84      0.82      9441\n",
      "\n"
     ]
    }
   ],
   "source": [
    "svc_best = grid_search.best_estimator_\n",
    "svc_best.fit(X_train, y_train)\n",
    "y_pred = svc_best.predict(X_test)\n",
    "\n",
    "print(classification_report(y_test, y_pred))"
   ]
  },
  {
   "cell_type": "markdown",
   "metadata": {},
   "source": [
    "## ROS (Before Splitting)"
   ]
  },
  {
   "cell_type": "code",
   "execution_count": 11,
   "metadata": {},
   "outputs": [
    {
     "name": "stdout",
     "output_type": "stream",
     "text": [
      "CPU times: user 9h 6min 34s, sys: 3min 7s, total: 9h 9min 42s\n",
      "Wall time: 9h 14min 13s\n",
      "\n",
      "Best SVM Parameter for ROS :  {'C': 50, 'degree': 2, 'gamma': 0.0001, 'kernel': 'linear'}\n"
     ]
    }
   ],
   "source": [
    "param_grid = {\n",
    "    'kernel' : ['linear', 'poly', 'rbf'],\n",
    "    'C': [1, 5, 10, 50],\n",
    "    'gamma': [0.0001, 0.001, 0.005],\n",
    "    'degree': [2, 3, 4]\n",
    "}   \n",
    "\n",
    "y_train_ros = y_train_ros\n",
    "y_test_ros = y_test_ros\n",
    "\n",
    "model = SVC()\n",
    "grid_search = GridSearchCV(model, param_grid, cv=2)\n",
    "\n",
    "%time grid_search.fit(X_train_ros, y_train_ros)\n",
    "print('\\nBest SVM Parameter for ROS : ', grid_search.best_params_)"
   ]
  },
  {
   "cell_type": "code",
   "execution_count": 12,
   "metadata": {},
   "outputs": [
    {
     "name": "stdout",
     "output_type": "stream",
     "text": [
      "              precision    recall  f1-score   support\n",
      "\n",
      "           0       0.96      0.86      0.91      6750\n",
      "           1       0.91      0.95      0.93      6650\n",
      "           2       0.93      0.99      0.96      6687\n",
      "\n",
      "    accuracy                           0.93     20087\n",
      "   macro avg       0.94      0.93      0.93     20087\n",
      "weighted avg       0.94      0.93      0.93     20087\n",
      "\n"
     ]
    }
   ],
   "source": [
    "svc_best = grid_search.best_estimator_\n",
    "svc_best.fit(X_train_ros, y_train_ros)\n",
    "y_pred_ros = svc_best.predict(X_test_ros)\n",
    "\n",
    "print(classification_report(y_test_ros, y_pred_ros))"
   ]
  },
  {
   "cell_type": "markdown",
   "metadata": {},
   "source": [
    "## SMOTE (Before Splitting)"
   ]
  },
  {
   "cell_type": "code",
   "execution_count": 15,
   "metadata": {},
   "outputs": [
    {
     "name": "stdout",
     "output_type": "stream",
     "text": [
      "CPU times: user 9h 2min 17s, sys: 2min 45s, total: 9h 5min 2s\n",
      "Wall time: 9h 6min 2s\n",
      "\n",
      "Best SVM Parameter for SMOTE :  {'C': 10, 'degree': 2, 'gamma': 0.0001, 'kernel': 'linear'}\n"
     ]
    }
   ],
   "source": [
    "param_grid = {\n",
    "    'kernel' : ['linear', 'poly', 'rbf'],\n",
    "    'C': [1, 5, 10, 50],\n",
    "    'gamma': [0.0001, 0.001, 0.005],\n",
    "    'degree': [2, 3, 4]\n",
    "}   \n",
    "\n",
    "y_train_smote = y_train_smote\n",
    "y_test_smote = y_test_smote\n",
    "\n",
    "model = SVC()\n",
    "grid_search = GridSearchCV(model, param_grid, cv=2)\n",
    "\n",
    "%time grid_search.fit(X_train_smote, y_train_smote)\n",
    "print('\\nBest SVM Parameter for SMOTE : ', grid_search.best_params_)"
   ]
  },
  {
   "cell_type": "code",
   "execution_count": 18,
   "metadata": {},
   "outputs": [
    {
     "name": "stdout",
     "output_type": "stream",
     "text": [
      "              precision    recall  f1-score   support\n",
      "\n",
      "           0       0.95      0.85      0.90      6739\n",
      "           1       0.91      0.94      0.93      6687\n",
      "           2       0.92      0.99      0.96      6661\n",
      "\n",
      "    accuracy                           0.93     20087\n",
      "   macro avg       0.93      0.93      0.93     20087\n",
      "weighted avg       0.93      0.93      0.93     20087\n",
      "\n"
     ]
    }
   ],
   "source": [
    "svc_best = grid_search.best_estimator_\n",
    "svc_best.fit(X_train_smote, y_train_smote)\n",
    "y_pred_smote = svc_best.predict(X_test_smote)\n",
    "\n",
    "print(classification_report(y_test_smote, y_pred_smote))"
   ]
  },
  {
   "cell_type": "markdown",
   "metadata": {},
   "source": [
    "## ROS (After Splitting)"
   ]
  },
  {
   "cell_type": "code",
   "execution_count": 19,
   "metadata": {},
   "outputs": [],
   "source": [
    "oversample = RandomOverSampler(sampling_strategy = 'auto')\n",
    "Xtrain_over_ros, ytrain_over_ros = oversample.fit_resample(X_train, y_train)"
   ]
  },
  {
   "cell_type": "code",
   "execution_count": 20,
   "metadata": {},
   "outputs": [
    {
     "name": "stdout",
     "output_type": "stream",
     "text": [
      "              precision    recall  f1-score   support\n",
      "\n",
      "           0       0.88      0.87      0.87      6704\n",
      "           1       0.68      0.66      0.67      2183\n",
      "           2       0.30      0.40      0.35       554\n",
      "\n",
      "    accuracy                           0.79      9441\n",
      "   macro avg       0.62      0.64      0.63      9441\n",
      "weighted avg       0.80      0.79      0.80      9441\n",
      "\n"
     ]
    }
   ],
   "source": [
    "svc_best = SVC(C = 50, degree = 2, gamma = 0.0001, kernel = 'linear')\n",
    "svc_best.fit(Xtrain_over_ros, ytrain_over_ros)\n",
    "y_pred_ros = svc_best.predict(X_test)\n",
    "\n",
    "print(classification_report(y_test, y_pred_ros))"
   ]
  },
  {
   "cell_type": "markdown",
   "metadata": {},
   "source": [
    "## SMOTE (After Splitting)"
   ]
  },
  {
   "cell_type": "code",
   "execution_count": 21,
   "metadata": {},
   "outputs": [],
   "source": [
    "oversample = SMOTE()\n",
    "Xtrain_over_smote, ytrain_over_smote = oversample.fit_resample(X_train, y_train)"
   ]
  },
  {
   "cell_type": "code",
   "execution_count": 22,
   "metadata": {},
   "outputs": [
    {
     "name": "stdout",
     "output_type": "stream",
     "text": [
      "              precision    recall  f1-score   support\n",
      "\n",
      "           0       0.88      0.86      0.87      6704\n",
      "           1       0.68      0.65      0.66      2183\n",
      "           2       0.29      0.41      0.34       554\n",
      "\n",
      "    accuracy                           0.79      9441\n",
      "   macro avg       0.62      0.64      0.63      9441\n",
      "weighted avg       0.80      0.79      0.79      9441\n",
      "\n"
     ]
    }
   ],
   "source": [
    "svc_best = SVC(C = 50, degree = 2, gamma = 0.0001, kernel = 'linear')\n",
    "svc_best.fit(Xtrain_over_smote, ytrain_over_smote)\n",
    "y_pred_smote = svc_best.predict(X_test)\n",
    "\n",
    "print(classification_report(y_test, y_pred_smote))"
   ]
  },
  {
   "cell_type": "markdown",
   "metadata": {},
   "source": [
    "# Summary"
   ]
  },
  {
   "cell_type": "code",
   "execution_count": 23,
   "metadata": {},
   "outputs": [
    {
     "data": {
      "text/html": [
       "<div>\n",
       "<style scoped>\n",
       "    .dataframe tbody tr th:only-of-type {\n",
       "        vertical-align: middle;\n",
       "    }\n",
       "\n",
       "    .dataframe tbody tr th {\n",
       "        vertical-align: top;\n",
       "    }\n",
       "\n",
       "    .dataframe thead th {\n",
       "        text-align: right;\n",
       "    }\n",
       "</style>\n",
       "<table border=\"1\" class=\"dataframe\">\n",
       "  <thead>\n",
       "    <tr style=\"text-align: right;\">\n",
       "      <th></th>\n",
       "      <th>Algorithm</th>\n",
       "      <th>Splitting</th>\n",
       "      <th>Accuracy</th>\n",
       "      <th>Precision</th>\n",
       "      <th>Recall</th>\n",
       "      <th>f1-score</th>\n",
       "      <th>Support</th>\n",
       "      <th>Time</th>\n",
       "    </tr>\n",
       "  </thead>\n",
       "  <tbody>\n",
       "    <tr>\n",
       "      <th>0</th>\n",
       "      <td>SVM (No Oversample)</td>\n",
       "      <td>-</td>\n",
       "      <td>84%</td>\n",
       "      <td>83%</td>\n",
       "      <td>84%</td>\n",
       "      <td>62%</td>\n",
       "      <td>9441</td>\n",
       "      <td>1h 2min 15s</td>\n",
       "    </tr>\n",
       "    <tr>\n",
       "      <th>1</th>\n",
       "      <td>SVM (ROS)</td>\n",
       "      <td>Before</td>\n",
       "      <td>93%</td>\n",
       "      <td>94%</td>\n",
       "      <td>94%</td>\n",
       "      <td>93%</td>\n",
       "      <td>20087</td>\n",
       "      <td>9h 9min 42s</td>\n",
       "    </tr>\n",
       "    <tr>\n",
       "      <th>2</th>\n",
       "      <td>SVM (SMOTE)</td>\n",
       "      <td>Before</td>\n",
       "      <td>93%</td>\n",
       "      <td>93%</td>\n",
       "      <td>93%</td>\n",
       "      <td>93%</td>\n",
       "      <td>20087</td>\n",
       "      <td>9h 5mins 2s</td>\n",
       "    </tr>\n",
       "    <tr>\n",
       "      <th>3</th>\n",
       "      <td>SVM (ROS)</td>\n",
       "      <td>After</td>\n",
       "      <td>79%</td>\n",
       "      <td>80%</td>\n",
       "      <td>79%</td>\n",
       "      <td>80%</td>\n",
       "      <td>9441</td>\n",
       "      <td>-</td>\n",
       "    </tr>\n",
       "    <tr>\n",
       "      <th>4</th>\n",
       "      <td>SVM (SMOTE)</td>\n",
       "      <td>After</td>\n",
       "      <td>79%</td>\n",
       "      <td>80%</td>\n",
       "      <td>79%</td>\n",
       "      <td>79%</td>\n",
       "      <td>9441</td>\n",
       "      <td>-</td>\n",
       "    </tr>\n",
       "  </tbody>\n",
       "</table>\n",
       "</div>"
      ],
      "text/plain": [
       "             Algorithm Splitting Accuracy Precision Recall f1-score Support   \n",
       "0  SVM (No Oversample)         -      84%       83%    84%      62%    9441  \\\n",
       "1            SVM (ROS)    Before      93%       94%    94%      93%   20087   \n",
       "2          SVM (SMOTE)    Before      93%       93%    93%      93%   20087   \n",
       "3            SVM (ROS)     After      79%       80%    79%      80%    9441   \n",
       "4          SVM (SMOTE)     After      79%       80%    79%      79%    9441   \n",
       "\n",
       "          Time  \n",
       "0  1h 2min 15s  \n",
       "1  9h 9min 42s  \n",
       "2  9h 5mins 2s  \n",
       "3            -  \n",
       "4            -  "
      ]
     },
     "execution_count": 23,
     "metadata": {},
     "output_type": "execute_result"
    }
   ],
   "source": [
    "summary = {'Algorithm': ['SVM (No Oversample)', 'SVM (ROS)', 'SVM (SMOTE)', 'SVM (ROS)', 'SVM (SMOTE)'],\n",
    "        'Splitting' : ['-', 'Before', 'Before', 'After', 'After'] ,\n",
    "        'Accuracy': ['84%', '93%', '93%', '79%', '79%'] ,\n",
    "        'Precision' : ['83%', '94%', '93%', '80%', '80%'],\n",
    "        'Recall' : ['84%', '94%', '93%', '79%', '79%'],\n",
    "        'f1-score' : ['62%', '93%', '93%', '80%', '79%'],\n",
    "        'Support' :['9441', '20087', '20087', '9441', '9441'],\n",
    "        'Time': ['1h 2min 15s', '9h 9min 42s', '9h 5mins 2s', '-', '-']}\n",
    "\n",
    "summary_table = pd.DataFrame(summary)\n",
    "\n",
    "summary_table"
   ]
  },
  {
   "cell_type": "code",
   "execution_count": null,
   "metadata": {},
   "outputs": [],
   "source": []
  }
 ],
 "metadata": {
  "kernelspec": {
   "display_name": "Python 3 (ipykernel)",
   "language": "python",
   "name": "python3"
  },
  "language_info": {
   "codemirror_mode": {
    "name": "ipython",
    "version": 3
   },
   "file_extension": ".py",
   "mimetype": "text/x-python",
   "name": "python",
   "nbconvert_exporter": "python",
   "pygments_lexer": "ipython3",
   "version": "3.10.10"
  },
  "vscode": {
   "interpreter": {
    "hash": "d99b347e93c6e8fc65384b6a9faff50092c6dabadaccc89677b03ac0b32690d8"
   }
  }
 },
 "nbformat": 4,
 "nbformat_minor": 2
}
