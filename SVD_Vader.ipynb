{
 "cells": [
  {
   "cell_type": "code",
   "execution_count": 1,
   "id": "9ee6402e",
   "metadata": {},
   "outputs": [],
   "source": [
    "import numpy as np\n",
    "import pandas as pd\n",
    "from sklearn.svm import SVC\n",
    "from sklearn.metrics import accuracy_score\n",
    "import ssa as ssa\n",
    "\n",
    "import pandas as pd\n",
    "import numpy as np\n",
    "from sklearn.feature_extraction.text import TfidfVectorizer\n",
    "from sklearn.svm import SVC\n",
    "from sklearn.metrics import accuracy_score, classification_report, confusion_matrix\n",
    "from sklearn.model_selection import GridSearchCV\n",
    "from imblearn.over_sampling import SMOTE, RandomOverSampler\n",
    "from sklearn.decomposition import PCA\n",
    "from sklearn.decomposition import TruncatedSVD\n",
    "\n",
    "import pickle\n",
    "from tqdm import tqdm\n",
    "from scipy.sparse import load_npz\n",
    "\n",
    "import warnings\n",
    "warnings.filterwarnings('ignore')"
   ]
  },
  {
   "cell_type": "code",
   "execution_count": 2,
   "id": "e781412a",
   "metadata": {},
   "outputs": [],
   "source": [
    "X_train = load_npz('./Vader/X_train.npz')\n",
    "X_test  = load_npz('./Vader/X_test.npz')\n",
    "y_train = pd.read_csv('./Vader/y_train.csv')\n",
    "y_test = pd.read_csv('./Vader/y_test.csv')\n",
    "\n",
    "X_train_ros= load_npz('./Vader/X_train_ros.npz')\n",
    "X_test_ros = load_npz('./Vader/X_test_ros.npz')\n",
    "y_train_ros = pd.read_csv('./Vader/y_train_ros.csv')\n",
    "y_test_ros = pd.read_csv('./Vader/y_test_ros.csv')\n",
    "\n",
    "X_train_smote = load_npz('./Vader/X_train_smote.npz')\n",
    "X_test_smote = load_npz('./Vader/X_test_smote.npz')\n",
    "y_train_smote = pd.read_csv('./Vader/y_train_smote.csv')\n",
    "y_test_smote = pd.read_csv('./Vader/y_test_smote.csv')\n",
    "\n",
    "X_train_ros_after = load_npz('./Vader/X_train_ros_after.npz')\n",
    "X_test_ros_after = load_npz('./Vader/X_test_ros_after.npz')\n",
    "y_train_ros_after = pd.read_csv('./Vader/y_train_ros_after.csv')\n",
    "y_test_ros_after = pd.read_csv('./Vader/y_test_ros_after.csv')\n",
    "\n",
    "X_train_smote_after = load_npz('./Vader/X_train_smote_after.npz')\n",
    "X_test_smote_after = load_npz('./Vader/X_test_smote_after.npz')\n",
    "y_train_smote_after = pd.read_csv('./Vader/y_train_smote_after.csv')\n",
    "y_test_smote_after = pd.read_csv('./Vader/y_test_smote_after.csv')"
   ]
  },
  {
   "cell_type": "code",
   "execution_count": 3,
   "id": "9fbe8c62",
   "metadata": {
    "scrolled": true
   },
   "outputs": [],
   "source": [
    "y_train.drop(['Unnamed: 0'], inplace = True, axis = 1)\n",
    "y_test.drop(['Unnamed: 0'], inplace = True, axis = 1)\n",
    "\n",
    "y_train_ros.drop(['Unnamed: 0'], inplace = True, axis = 1)\n",
    "y_test_ros.drop(['Unnamed: 0'], inplace = True, axis = 1)\n",
    "\n",
    "y_train_smote.drop(['Unnamed: 0'], inplace = True, axis = 1)\n",
    "y_test_smote.drop(['Unnamed: 0'], inplace = True, axis = 1)\n",
    "\n",
    "y_train_ros_after.drop(['Unnamed: 0'], inplace = True, axis = 1)\n",
    "y_test_ros_after.drop(['Unnamed: 0'], inplace = True, axis = 1)\n",
    "\n",
    "y_train_smote_after.drop(['Unnamed: 0'], inplace = True, axis = 1)\n",
    "y_test_smote_after.drop(['Unnamed: 0'], inplace = True, axis = 1)"
   ]
  },
  {
   "cell_type": "code",
   "execution_count": 4,
   "id": "ce539b72",
   "metadata": {},
   "outputs": [],
   "source": [
    "def train_and_evaluate(X_train, X_test, y_train, y_test):\n",
    "\n",
    "    num_components = 4000\n",
    "    svd = TruncatedSVD(n_components=num_components)\n",
    "    X_train_pca = svd.fit_transform(X_train)\n",
    "    X_test_pca = svd.transform(X_test)\n",
    "\n",
    "    svm_model = SVC(C = 50, degree = 2, gamma = 0.0001, kernel = 'linear')\n",
    "    svm_model.fit(X_train_pca, y_train)\n",
    "\n",
    "    y_pred = svm_model.predict(X_test_pca)\n",
    "\n",
    "    report = classification_report(y_test, y_pred)\n",
    "    print(report)"
   ]
  },
  {
   "cell_type": "code",
   "execution_count": 5,
   "id": "dfc735f6",
   "metadata": {},
   "outputs": [
    {
     "name": "stdout",
     "output_type": "stream",
     "text": [
      "              precision    recall  f1-score   support\n",
      "\n",
      "           0       0.88      0.92      0.90      6724\n",
      "           1       0.73      0.66      0.69      2163\n",
      "           2       0.38      0.30      0.33       554\n",
      "\n",
      "    accuracy                           0.82      9441\n",
      "   macro avg       0.66      0.63      0.64      9441\n",
      "weighted avg       0.81      0.82      0.82      9441\n",
      "\n",
      "CPU times: user 1h 23min 2s, sys: 1min 23s, total: 1h 24min 26s\n",
      "Wall time: 1h 6min 41s\n"
     ]
    }
   ],
   "source": [
    "%time train_and_evaluate(X_train, X_test, y_train, y_test)"
   ]
  },
  {
   "cell_type": "code",
   "execution_count": 6,
   "id": "98efea33",
   "metadata": {},
   "outputs": [
    {
     "name": "stdout",
     "output_type": "stream",
     "text": [
      "              precision    recall  f1-score   support\n",
      "\n",
      "           0       0.91      0.87      0.89      6757\n",
      "           1       0.90      0.90      0.90      6583\n",
      "           2       0.94      0.99      0.97      6747\n",
      "\n",
      "    accuracy                           0.92     20087\n",
      "   macro avg       0.92      0.92      0.92     20087\n",
      "weighted avg       0.92      0.92      0.92     20087\n",
      "\n",
      "CPU times: user 5h 35min 45s, sys: 7min 59s, total: 5h 43min 44s\n",
      "Wall time: 5h 8min 15s\n"
     ]
    }
   ],
   "source": [
    "%time train_and_evaluate(X_train_ros, X_test_ros, y_train_ros, y_test_ros)"
   ]
  },
  {
   "cell_type": "code",
   "execution_count": 7,
   "id": "4e609e27",
   "metadata": {},
   "outputs": [
    {
     "name": "stdout",
     "output_type": "stream",
     "text": [
      "              precision    recall  f1-score   support\n",
      "\n",
      "           0       0.91      0.86      0.88      6795\n",
      "           1       0.90      0.91      0.90      6652\n",
      "           2       0.94      0.99      0.96      6640\n",
      "\n",
      "    accuracy                           0.92     20087\n",
      "   macro avg       0.92      0.92      0.92     20087\n",
      "weighted avg       0.92      0.92      0.92     20087\n",
      "\n",
      "CPU times: user 4h 16min 1s, sys: 6min 10s, total: 4h 22min 11s\n",
      "Wall time: 3h 53min 1s\n"
     ]
    }
   ],
   "source": [
    "%time train_and_evaluate(X_train_smote, X_test_smote, y_train_smote, y_test_smote)"
   ]
  },
  {
   "cell_type": "code",
   "execution_count": 8,
   "id": "a0e9d5b1",
   "metadata": {},
   "outputs": [
    {
     "name": "stdout",
     "output_type": "stream",
     "text": [
      "              precision    recall  f1-score   support\n",
      "\n",
      "    negative       0.88      0.89      0.88      6715\n",
      "     neutral       0.36      0.33      0.34       556\n",
      "    positive       0.70      0.68      0.69      2170\n",
      "\n",
      "    accuracy                           0.81      9441\n",
      "   macro avg       0.65      0.63      0.64      9441\n",
      "weighted avg       0.81      0.81      0.81      9441\n",
      "\n",
      "CPU times: user 3h 35min 4s, sys: 4min 25s, total: 3h 39min 29s\n",
      "Wall time: 3h 13min 5s\n"
     ]
    }
   ],
   "source": [
    "%time train_and_evaluate(X_train_ros_after, X_test_ros_after, y_train_ros_after, y_test_ros_after)"
   ]
  },
  {
   "cell_type": "code",
   "execution_count": 9,
   "id": "98b102e7",
   "metadata": {},
   "outputs": [
    {
     "name": "stdout",
     "output_type": "stream",
     "text": [
      "              precision    recall  f1-score   support\n",
      "\n",
      "    negative       0.88      0.88      0.88      6668\n",
      "     neutral       0.35      0.37      0.36       573\n",
      "    positive       0.69      0.68      0.68      2200\n",
      "\n",
      "    accuracy                           0.80      9441\n",
      "   macro avg       0.64      0.64      0.64      9441\n",
      "weighted avg       0.80      0.80      0.80      9441\n",
      "\n",
      "CPU times: user 3h 47s, sys: 3min 26s, total: 3h 4min 14s\n",
      "Wall time: 2h 38min 31s\n"
     ]
    }
   ],
   "source": [
    "%time train_and_evaluate(X_train_smote_after, X_test_smote_after, y_train_smote_after, y_test_smote_after)"
   ]
  },
  {
   "cell_type": "code",
   "execution_count": null,
   "id": "29a4bc15",
   "metadata": {},
   "outputs": [],
   "source": []
  }
 ],
 "metadata": {
  "kernelspec": {
   "display_name": "Python 3 (ipykernel)",
   "language": "python",
   "name": "python3"
  },
  "language_info": {
   "codemirror_mode": {
    "name": "ipython",
    "version": 3
   },
   "file_extension": ".py",
   "mimetype": "text/x-python",
   "name": "python",
   "nbconvert_exporter": "python",
   "pygments_lexer": "ipython3",
   "version": "3.10.10"
  }
 },
 "nbformat": 4,
 "nbformat_minor": 5
}
